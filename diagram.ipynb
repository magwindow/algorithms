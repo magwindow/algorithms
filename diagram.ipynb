{
 "cells": [
  {
   "cell_type": "code",
   "execution_count": 1,
   "metadata": {},
   "outputs": [],
   "source": [
    "point = [0.2,0.8]\n",
    "triangle = [[0.2,0.8],[0.5,0.2],[0.8,0.7]]"
   ]
  },
  {
   "cell_type": "code",
   "execution_count": 2,
   "metadata": {},
   "outputs": [],
   "source": [
    "def points_to_triangle(point1,point2,point3):\n",
    "    triangle = [list(point1),list(point2),list(point3)]\n",
    "    return triangle"
   ]
  },
  {
   "cell_type": "code",
   "execution_count": 3,
   "metadata": {},
   "outputs": [],
   "source": [
    "def genlines(listpoints,itinerary):\n",
    "    lines = []\n",
    "    for j in range(len(itinerary)-1):\n",
    "        lines.append([listpoints[itinerary[j]],listpoints[itinerary[j+1]]])\n",
    "    return lines"
   ]
  },
  {
   "cell_type": "code",
   "execution_count": 4,
   "metadata": {},
   "outputs": [],
   "source": [
    "import pylab as pl\n",
    "from matplotlib import collections as mc\n",
    "\n",
    "def plot_triangle_simple(triangle,thename):\n",
    "    \"\"\"Функция рисования треугольников\"\"\"\n",
    "    fig, ax = pl.subplots()\n",
    "    xs = [triangle[0][0],triangle[1][0],triangle[2][0]]\n",
    "    ys = [triangle[0][1],triangle[1][1],triangle[2][1]]\n",
    "    itin=[0,1,2,0]\n",
    "    genlines(triangle,itin)\n",
    "    lc = mc.LineCollection(genlines(triangle,itin), linewidths=2)\n",
    "    ax.add_collection(lc)\n",
    "    ax.margins(0.1)\n",
    "    pl.scatter(xs, ys)\n",
    "    pl.savefig(str(thename) + '.png')\n",
    "    pl.close()"
   ]
  },
  {
   "cell_type": "code",
   "execution_count": 5,
   "metadata": {},
   "outputs": [],
   "source": [
    "plot_triangle_simple(points_to_triangle((0.2,0.8),(0.5,0.2),(0.8,0.7)),'tri')"
   ]
  },
  {
   "cell_type": "code",
   "execution_count": 6,
   "metadata": {},
   "outputs": [],
   "source": [
    "import math\n",
    "\n",
    "\n",
    "def get_distance(point1,point2):\n",
    "    distance = math.sqrt((point1[0] - point2[0])**2 + (point1[1] - point2[1])**2)\n",
    "    return distance"
   ]
  },
  {
   "cell_type": "code",
   "execution_count": 7,
   "metadata": {},
   "outputs": [],
   "source": [
    "def triangle_to_circumcenter(triangle):\n",
    "    x,y,z = complex(triangle[0][0],triangle[0][1]), complex(triangle[1][0],triangle[1][1]), complex(triangle[2][0],triangle[2][1])\n",
    "    w = z - x\n",
    "    w /= y - x\n",
    "    c = (x-y) * (w-abs(w)**2)/2j/w.imag - x\n",
    "    radius = abs(c + x)\n",
    "    return (0 - c.real,0 - c.imag), radius"
   ]
  },
  {
   "cell_type": "code",
   "execution_count": 8,
   "metadata": {},
   "outputs": [],
   "source": [
    "def plot_triangle(triangles,centers,radii,thename):\n",
    "    \"\"\"\n",
    "    Улучшенная функция plot_triangle(), \n",
    "    которая рисует описанную окружность и ее центр\n",
    "    \"\"\"\n",
    "    fig, ax = pl.subplots()\n",
    "    ax.set_xlim([0,1])\n",
    "    ax.set_ylim([0,1])\n",
    "    \n",
    "    for i in range(0,len(triangles)):\n",
    "        triangle = triangles[i]\n",
    "        center = centers[i]\n",
    "        radius = radii[i]\n",
    "        itin = [0,1,2,0]\n",
    "        genlines(triangle,itin)\n",
    "        xs = [triangle[0][0],triangle[1][0],triangle[2][0]]\n",
    "        ys = [triangle[0][1],triangle[1][1],triangle[2][1]]\n",
    "        lc = mc.LineCollection(genlines(triangle,itin), linewidths = 2)\n",
    "        ax.add_collection(lc)\n",
    "        ax.margins(0.1)\n",
    "        pl.scatter(xs, ys)\n",
    "        pl.scatter(center[0],center[1])\n",
    "        circle = pl.Circle(center, radius, color = 'b', fill = False)\n",
    "        ax.add_artist(circle)\n",
    "    \n",
    "    pl.savefig(str(thename) + '.png')\n",
    "    pl.close()"
   ]
  },
  {
   "cell_type": "code",
   "execution_count": 9,
   "metadata": {},
   "outputs": [],
   "source": [
    "triangle1 = points_to_triangle((0.1,0.1),(0.3,0.6),(0.5,0.2))\n",
    "center1,radius1 = triangle_to_circumcenter(triangle1)\n",
    "triangle2 = points_to_triangle((0.8,0.1),(0.7,0.5),(0.8,0.9))\n",
    "center2,radius2 = triangle_to_circumcenter(triangle2)\n",
    "plot_triangle([triangle1,triangle2],[center1,center2],[radius1,radius2],'two')"
   ]
  },
  {
   "cell_type": "code",
   "execution_count": 15,
   "metadata": {},
   "outputs": [],
   "source": [
    "def gen_delaunay(points):\n",
    "    \"\"\"Функция, которая получает набор точек и возвращает триангуляцию Делоне\"\"\"\n",
    "    delaunay = [points_to_triangle([-5,-5],[-5,10],[10,-5])]\n",
    "    number_of_points = 0\n",
    "    \n",
    "    while number_of_points < len(points):\n",
    "        point_to_add = points[number_of_points]\n",
    "        delaunay_index = 0\n",
    "        invalid_triangles = []\n",
    "        \n",
    "        while delaunay_index < len(delaunay):\n",
    "            circumcenter,radius = triangle_to_circumcenter(delaunay[delaunay_index])\n",
    "            new_distance = get_distance(circumcenter,point_to_add)\n",
    "            \n",
    "            if new_distance < radius:\n",
    "                invalid_triangles.append(delaunay[delaunay_index])\n",
    "            \n",
    "            delaunay_index += 1\n",
    "        \n",
    "        points_in_invalid = []\n",
    "        \n",
    "        for i in range(0,len(invalid_triangles)):\n",
    "            delaunay.remove(invalid_triangles[i])\n",
    "            \n",
    "            for j in range(0,len(invalid_triangles[i])):\n",
    "                points_in_invalid.append(invalid_triangles[i][j])\n",
    "                \n",
    "        points_in_invalid = [list(x) for x in set(tuple(x) for x in points_in_invalid)]\n",
    "        \n",
    "        for i in range(0,len(points_in_invalid)):\n",
    "            for j in range(i + 1,len(points_in_invalid)):\n",
    "                # Подсчитать количество вхождений обеих точек\n",
    "                # в недействительные треугольники\n",
    "                count_occurrences = 0\n",
    "                \n",
    "                for k in range(0,len(invalid_triangles)):\n",
    "                    count_occurrences += 1 * (points_in_invalid[i] in invalid_triangles[k]) * (points_in_invalid[j] in invalid_triangles[k])\n",
    "                    \n",
    "                if count_occurrences == 1:\n",
    "                    delaunay.append(points_to_triangle(points_in_invalid[i], points_in_invalid[j], point_to_add))\n",
    "                    \n",
    "        number_of_points += 1\n",
    "    \n",
    "    return delaunay\n",
    "    "
   ]
  },
  {
   "cell_type": "code",
   "execution_count": 16,
   "metadata": {},
   "outputs": [],
   "source": [
    "import numpy as np\n",
    "\n",
    "N = 15\n",
    "np.random.seed(5201314)\n",
    "xs = np.random.rand(N)\n",
    "ys = np.random.rand(N)\n",
    "points = zip(xs,ys)\n",
    "listpoints = list(points)\n",
    "the_delaunay = gen_delaunay(listpoints)"
   ]
  },
  {
   "cell_type": "code",
   "execution_count": 18,
   "metadata": {},
   "outputs": [],
   "source": [
    "def plot_triangle_circum(triangles,centers,plotcircles,plotpoints,plottriangles,plotvoronoi,plotvpoints,thename):\n",
    "    \"\"\"Функция для рисования треугольников, описанных окружностей, их центров, точек Вороного и регионов Вороного\"\"\"\n",
    "    fig, ax = pl.subplots()\n",
    "    ax.set_xlim([-0.1,1.1])\n",
    "    ax.set_ylim([-0.1,1.1])\n",
    "    \n",
    "    lines=[]\n",
    "    \n",
    "    for i in range(0,len(triangles)):\n",
    "        triangle = triangles[i]\n",
    "        center = centers[i][0]\n",
    "        radius = centers[i][1]\n",
    "        itin = [0,1,2,0]\n",
    "        genlines(triangle,itin)\n",
    "        xs = [triangle[0][0],triangle[1][0],triangle[2][0]]\n",
    "        ys = [triangle[0][1],triangle[1][1],triangle[2][1]]\n",
    "        lc = mc.LineCollection(genlines(triangle,itin), linewidths=2)\n",
    "        \n",
    "        if plottriangles:\n",
    "            ax.add_collection(lc)\n",
    "        if plotpoints:\n",
    "            pl.scatter(xs, ys)\n",
    "            \n",
    "        ax.margins(0.1)\n",
    "        \n",
    "        if plotvpoints:\n",
    "            pl.scatter(center[0],center[1])\n",
    "            \n",
    "        circle = pl.Circle(center, radius, color = 'b', fill = False)\n",
    "        \n",
    "        if plotcircles:\n",
    "            ax.add_artist(circle)\n",
    "            \n",
    "        if plotvoronoi:\n",
    "            for j in range(0,len(triangles)):\n",
    "                commonpoints = 0\n",
    "                for k in range(0,len(triangles[i])):\n",
    "                    for n in range(0,len(triangles[j])):\n",
    "                        if triangles[i][k] == triangles[j][n]:\n",
    "                            commonpoints += 1\n",
    "                if commonpoints == 2:\n",
    "                    lines.append([list(centers[i][0]),list(centers[j][0])])\n",
    "                    \n",
    "        lc = mc.LineCollection(lines, linewidths = 1)\n",
    "        ax.add_collection(lc)\n",
    "        \n",
    "    pl.savefig(str(thename) + '.png')\n",
    "    pl.close()\n",
    "        \n",
    "        \n",
    "    "
   ]
  },
  {
   "cell_type": "code",
   "execution_count": 19,
   "metadata": {},
   "outputs": [],
   "source": [
    "circumcenters = []\n",
    "for i in range(0,len(the_delaunay)):\n",
    "    circumcenters.append(triangle_to_circumcenter(the_delaunay[i]))"
   ]
  },
  {
   "cell_type": "code",
   "execution_count": 20,
   "metadata": {},
   "outputs": [],
   "source": [
    "plot_triangle_circum(the_delaunay,circumcenters,False,True,False,True,False,'final')"
   ]
  },
  {
   "cell_type": "code",
   "execution_count": 21,
   "metadata": {},
   "outputs": [],
   "source": [
    "plot_triangle_circum(the_delaunay,circumcenters,True,True,True,True,True,'everything')"
   ]
  }
 ],
 "metadata": {
  "kernelspec": {
   "display_name": ".venv",
   "language": "python",
   "name": "python3"
  },
  "language_info": {
   "codemirror_mode": {
    "name": "ipython",
    "version": 3
   },
   "file_extension": ".py",
   "mimetype": "text/x-python",
   "name": "python",
   "nbconvert_exporter": "python",
   "pygments_lexer": "ipython3",
   "version": "3.10.9"
  }
 },
 "nbformat": 4,
 "nbformat_minor": 2
}
