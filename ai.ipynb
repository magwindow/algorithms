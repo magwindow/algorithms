{
 "cells": [
  {
   "cell_type": "code",
   "execution_count": 1,
   "metadata": {},
   "outputs": [],
   "source": [
    "import matplotlib.pyplot as plt\n",
    "from matplotlib import collections as mc\n",
    "\n",
    "def drawlattice(n, name):\n",
    "    for i in range(1, n + 1):\n",
    "        for j in range(1, n + 1):\n",
    "            plt.plot(i, j, 'o', c = 'black')\n",
    "    plt.savefig(name)"
   ]
  },
  {
   "cell_type": "code",
   "execution_count": 2,
   "metadata": {},
   "outputs": [
    {
     "data": {
      "image/png": "[encoded data removed]",
      "text/plain": [
       "<Figure size 640x480 with 1 Axes>"
      ]
     },
     "metadata": {},
     "output_type": "display_data"
    }
   ],
   "source": [
    "drawlattice(5, 'lattice.png')"
   ]
  },
  {
   "cell_type": "code",
   "execution_count": 2,
   "metadata": {},
   "outputs": [],
   "source": [
    "game = [[(1,2),(1,1)],[(3,3),(4,3)],[(1,5),(2,5)],[(1,2),(2,2)],[(2,2),(2,1)],[(1,1),(2,1)],[(3,4),(3,3)],[(3,4),(4,4)]]"
   ]
  },
  {
   "cell_type": "code",
   "execution_count": 3,
   "metadata": {},
   "outputs": [],
   "source": [
    "def drawgame(n, name, game):\n",
    "    colors2 = []\n",
    "    \n",
    "    for k in range(0,len(game)):\n",
    "        if k % 2 == 0:\n",
    "            colors2.append('red')\n",
    "        else:\n",
    "            colors2.append('blue')\n",
    "            \n",
    "    lc = mc.LineCollection(game, colors=colors2, linewidths=2)\n",
    "    fig, ax = plt.subplots()\n",
    "    \n",
    "    for i in range(1, n + 1):\n",
    "        for j in range(1, n + 1):\n",
    "            plt.plot(i, j, 'o', c = 'black')\n",
    "            \n",
    "    ax.add_collection(lc)\n",
    "    ax.autoscale()\n",
    "    ax.margins(0.1)\n",
    "    plt.savefig(name)"
   ]
  },
  {
   "cell_type": "code",
   "execution_count": 5,
   "metadata": {},
   "outputs": [
    {
     "data": {
      "image/png": "[encoded data removed]",
      "text/plain": [
       "<Figure size 640x480 with 1 Axes>"
      ]
     },
     "metadata": {},
     "output_type": "display_data"
    }
   ],
   "source": [
    "drawgame(5, 'gameinprogress.png', game)"
   ]
  },
  {
   "cell_type": "code",
   "execution_count": 4,
   "metadata": {},
   "outputs": [],
   "source": [
    "def squarefinder(game):\n",
    "    \"\"\"Функция для подсчета квадратов в игре «Точки и квадраты»\"\"\"\n",
    "    countofsquares = 0\n",
    "    \n",
    "    for line in game:\n",
    "        parallel = False\n",
    "        left=False\n",
    "        right=False\n",
    "        \n",
    "        if line[0][1] == line[1][1]:\n",
    "            if [(line[0][0], line[0][1]-1), (line[1][0], line[1][1]-1)] in game:\n",
    "                parallel=True\n",
    "            if [(line[0][0], line[0][1]), (line[1][0]-1, line[1][1]-1)] in game:\n",
    "                left=True\n",
    "            if [(line[0][0]+1, line[0][1]), (line[1][0], line[1][1]-1)] in game:\n",
    "                right=True\n",
    "            if parallel and left and right:\n",
    "                countofsquares += 1\n",
    "    \n",
    "    return countofsquares"
   ]
  },
  {
   "cell_type": "code",
   "execution_count": 5,
   "metadata": {},
   "outputs": [],
   "source": [
    "def score(game):\n",
    "    \"\"\"Функция для вычисления текущего счета игры «Точки и квадраты»\"\"\"\n",
    "    score = [0, 0]\n",
    "    progress = []\n",
    "    squares = 0\n",
    "    \n",
    "    for line in game:\n",
    "        progress.append(line)\n",
    "        newsquares = squarefinder(progress)\n",
    "        \n",
    "        if newsquares > squares:\n",
    "            if len(progress) % 2 == 0:\n",
    "                score[1] = score[1] + 1\n",
    "            else:\n",
    "                score[0] = score[0] + 1\n",
    "                \n",
    "        squares = newsquares\n",
    "    return score "
   ]
  },
  {
   "cell_type": "code",
   "execution_count": 6,
   "metadata": {},
   "outputs": [
    {
     "name": "stdout",
     "output_type": "stream",
     "text": [
      "[0, 1]\n"
     ]
    }
   ],
   "source": [
    "print(score(game))"
   ]
  },
  {
   "cell_type": "code",
   "execution_count": 7,
   "metadata": {},
   "outputs": [
    {
     "name": "stdout",
     "output_type": "stream",
     "text": [
      "[[(1, 3), (1, 2)], [(1, 4), (1, 3)], [(1, 5), (1, 4)], [(2, 3), (2, 2)], [(2, 4), (2, 3)], [(2, 5), (2, 4)], [(3, 2), (3, 1)], [(3, 3), (3, 2)], [(3, 5), (3, 4)], [(4, 2), (4, 1)], [(4, 3), (4, 2)], [(4, 4), (4, 3)], [(4, 5), (4, 4)], [(5, 2), (5, 1)], [(5, 3), (5, 2)], [(5, 4), (5, 3)], [(5, 5), (5, 4)], [(1, 2), (2, 2)], [(1, 3), (2, 3)], [(1, 4), (2, 4)], [(2, 1), (3, 1)], [(2, 2), (3, 2)], [(2, 3), (3, 3)], [(2, 4), (3, 4)], [(2, 5), (3, 5)], [(3, 1), (4, 1)], [(3, 2), (4, 2)], [(3, 4), (4, 4)], [(3, 5), (4, 5)], [(4, 1), (5, 1)], [(4, 2), (5, 2)], [(4, 3), (5, 3)], [(4, 4), (5, 4)], [(4, 5), (5, 5)]]\n"
     ]
    }
   ],
   "source": [
    "allpossible = []\n",
    "gamesize = 5\n",
    "\n",
    "for i in range(1, gamesize + 1):\n",
    "    for j in range(2, gamesize + 1):\n",
    "        allpossible.append([(i,j), (i,j - 1)])\n",
    "        \n",
    "for i in range(1, gamesize):\n",
    "    for j in range(1, gamesize + 1):\n",
    "        allpossible.append([(i,j),(i + 1,j)])\n",
    "        \n",
    "for move in allpossible:\n",
    "    if move in game:\n",
    "        allpossible.remove(move)\n",
    "        \n",
    "print(allpossible)"
   ]
  },
  {
   "cell_type": "code",
   "execution_count": 8,
   "metadata": {},
   "outputs": [],
   "source": [
    "def generate_tree(possible_moves, depth, maxdepth, game_so_far):\n",
    "    \"\"\"Функция, генерирующая дерево игры с ходами-потомками и текущим счетом\"\"\"\n",
    "    tree = []\n",
    "    \n",
    "    for move in possible_moves:\n",
    "        move_profile = [move]\n",
    "        game2 = game_so_far.copy()\n",
    "        game2.append(move)\n",
    "        move_profile.append(score(game2))\n",
    "        \n",
    "        if depth < maxdepth:\n",
    "            possible_moves2 = possible_moves.copy()\n",
    "            possible_moves2.remove(move)\n",
    "            move_profile.append(generate_tree(possible_moves2, depth + 1, maxdepth, game2))\n",
    "        else:\n",
    "            move_profile.append([])\n",
    "        \n",
    "        tree.append(move_profile)\n",
    "    \n",
    "    return tree"
   ]
  },
  {
   "cell_type": "code",
   "execution_count": 9,
   "metadata": {},
   "outputs": [
    {
     "name": "stdout",
     "output_type": "stream",
     "text": [
      "[[[(4, 4), (4, 3)], [0, 0], [[[(4, 1), (5, 1)], [0, 0], []]]], [[(4, 1), (5, 1)], [0, 0], [[[(4, 4), (4, 3)], [0, 0], []]]]]\n"
     ]
    }
   ],
   "source": [
    "allpossible = [[(4,4),(4,3)], [(4,1),(5,1)]]\n",
    "thetree = generate_tree(allpossible, 0, 1, [])\n",
    "print(thetree)"
   ]
  },
  {
   "cell_type": "code",
   "execution_count": 10,
   "metadata": {},
   "outputs": [],
   "source": [
    "import numpy as np\n",
    "\n",
    "def minimax(max_or_min, tree):\n",
    "    \"\"\"\n",
    "    Функция, использующая минимаксный алгоритм для \n",
    "    нахождения лучшего хода в дереве игры\n",
    "    \"\"\"\n",
    "    allscores = []\n",
    "    \n",
    "    for move_profile in tree:\n",
    "        if move_profile[2] == []:\n",
    "            allscores.append(move_profile[1][0] - move_profile[1][1])\n",
    "        else:\n",
    "            move, score = minimax((-1) * max_or_min, move_profile[2])\n",
    "            allscores.append(score)\n",
    "            \n",
    "    newlist = [score * max_or_min for score in allscores]\n",
    "    bestscore = max(newlist)\n",
    "    bestmove = np.argmax(newlist)\n",
    "    return(bestmove, max_or_min * bestscore)"
   ]
  },
  {
   "cell_type": "code",
   "execution_count": 11,
   "metadata": {},
   "outputs": [
    {
     "name": "stdout",
     "output_type": "stream",
     "text": [
      "[(4, 4), (4, 3)]\n"
     ]
    }
   ],
   "source": [
    "allpossible = []\n",
    "game = [[(1,2),(1,1)],[(3,3),(4,3)],[(1,5),(2,5)],[(1,2),(2,2)],[(2,2),(2,1)],\\\n",
    "        [(1,1),(2,1)],[(3,4),(3,3)],[(3,4),(4,4)]]\n",
    "\n",
    "gamesize = 5\n",
    "\n",
    "for i in range(1, gamesize + 1):\n",
    "    for j in range(2, gamesize + 1):\n",
    "        allpossible.append([(i,j), (i,j - 1)])\n",
    "        \n",
    "for i in range(1, gamesize):\n",
    "    for j in range(1, gamesize + 1):\n",
    "        allpossible.append([(i,j), (i + 1,j)])\n",
    "        \n",
    "for move in allpossible:\n",
    "    if move in game:\n",
    "        allpossible.remove(move)\n",
    "        \n",
    "thetree = generate_tree(allpossible, 0, 3, game)\n",
    "move, score = minimax(1, thetree)\n",
    "print(thetree[move][0])"
   ]
  }
 ],
 "metadata": {
  "kernelspec": {
   "display_name": ".venv",
   "language": "python",
   "name": "python3"
  },
  "language_info": {
   "codemirror_mode": {
    "name": "ipython",
    "version": 3
   },
   "file_extension": ".py",
   "mimetype": "text/x-python",
   "name": "python",
   "nbconvert_exporter": "python",
   "pygments_lexer": "ipython3",
   "version": "3.10.9"
  }
 },
 "nbformat": 4,
 "nbformat_minor": 2
}
