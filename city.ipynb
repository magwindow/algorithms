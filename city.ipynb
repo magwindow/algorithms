{
 "cells": [
  {
   "cell_type": "code",
   "execution_count": 1,
   "metadata": {},
   "outputs": [],
   "source": [
    "import numpy as np\n",
    "import math\n",
    "import matplotlib.collections as mc\n",
    "import matplotlib.pylab as pl"
   ]
  },
  {
   "cell_type": "code",
   "execution_count": 2,
   "metadata": {},
   "outputs": [],
   "source": [
    "random_seed = 1729\n",
    "np.random.seed(random_seed)\n",
    "N = 40\n",
    "x = np.random.rand(N)\n",
    "y = np.random.rand(N)\n",
    "points = zip(x,y)\n",
    "cities = list(points)\n",
    "itinerary = list(range(0,N))"
   ]
  },
  {
   "cell_type": "code",
   "execution_count": 3,
   "metadata": {},
   "outputs": [
    {
     "name": "stdout",
     "output_type": "stream",
     "text": [
      "[0, 1, 2, 3, 4, 5, 6, 7, 8, 9, 10, 11, 12, 13, 14, 15, 16, 17, 18, 19, 20, 21, 22, 23, 24, 25, 26, 27, 28, 29, 30, 31, 32, 33, 34, 35, 36, 37, 38, 39]\n"
     ]
    }
   ],
   "source": [
    "print(itinerary)"
   ]
  },
  {
   "cell_type": "code",
   "execution_count": 4,
   "metadata": {},
   "outputs": [],
   "source": [
    "def genlines(cities,itinerary):\n",
    "    lines = []\n",
    "    for j in range(0,len(itinerary) - 1):\n",
    "        lines.append([cities[itinerary[j]],cities[itinerary[j + 1]]])\n",
    "    return lines"
   ]
  },
  {
   "cell_type": "code",
   "execution_count": 5,
   "metadata": {},
   "outputs": [],
   "source": [
    "def howfar(lines):\n",
    "    distance = 0\n",
    "    for j in range(0,len(lines)):\n",
    "        distance += math.sqrt(abs(lines[j][1][0] - lines[j][0][0])**2 + abs(lines[j][1][1] - lines[j][0][1])**2)\n",
    "    return distance"
   ]
  },
  {
   "cell_type": "code",
   "execution_count": 6,
   "metadata": {},
   "outputs": [
    {
     "name": "stdout",
     "output_type": "stream",
     "text": [
      "16.808756356994223\n"
     ]
    }
   ],
   "source": [
    "totaldistance = howfar(genlines(cities,itinerary))\n",
    "print(totaldistance)"
   ]
  },
  {
   "cell_type": "code",
   "execution_count": 7,
   "metadata": {},
   "outputs": [],
   "source": [
    "def plotitinerary(cities,itin,plottitle,thename):\n",
    "    lc = mc.LineCollection(genlines(cities,itin), linewidths=2)\n",
    "    fig, ax = pl.subplots()\n",
    "    ax.add_collection(lc)\n",
    "    ax.autoscale()\n",
    "    ax.margins(0.1)\n",
    "    pl.scatter(x, y)\n",
    "    pl.title(plottitle)\n",
    "    pl.xlabel('X Coordinate')\n",
    "    pl.ylabel('Y Coordinate')\n",
    "    pl.savefig(str(thename) + '.png')\n",
    "    pl.close()"
   ]
  },
  {
   "cell_type": "code",
   "execution_count": 8,
   "metadata": {},
   "outputs": [],
   "source": [
    "plotitinerary(cities,itinerary,'Initial Itinerary','initialitinerary')"
   ]
  },
  {
   "cell_type": "code",
   "execution_count": 9,
   "metadata": {},
   "outputs": [],
   "source": [
    "point = [0.5,0.5]\n",
    "j = 10\n",
    "distance = math.sqrt((point[0] - cities[j][0])**2 + (point[1] - cities[j][1])**2)"
   ]
  },
  {
   "cell_type": "code",
   "execution_count": 11,
   "metadata": {},
   "outputs": [],
   "source": [
    "def findnearest(cities,idx,nnitinerary):\n",
    "    \"\"\"Функция для поиска города, ближайшего к заданном\"\"\"\n",
    "    point = cities[idx]\n",
    "    mindistance = float('inf')\n",
    "    minidx = - 1\n",
    "    for j in range(0,len(cities)):\n",
    "        distance = math.sqrt((point[0] - cities[j][0])**2 + (point[1] - cities[j][1])**2)\n",
    "        if distance < mindistance and distance > 0 and j not in nnitinerary:\n",
    "            mindistance = distance\n",
    "            minidx = j\n",
    "    return minidx"
   ]
  },
  {
   "cell_type": "code",
   "execution_count": 14,
   "metadata": {},
   "outputs": [],
   "source": [
    "def donn(cities,N):\n",
    "    \"\"\"Функция, которая последовательно находит ближайший город и возвращает полученный маршрут\"\"\"\n",
    "    nnitinerary = [0]\n",
    "    for j in range(0,N - 1):\n",
    "        next = findnearest(cities,nnitinerary[len(nnitinerary) - 1],nnitinerary)\n",
    "        nnitinerary.append(next)\n",
    "    return nnitinerary"
   ]
  },
  {
   "cell_type": "code",
   "execution_count": 15,
   "metadata": {},
   "outputs": [],
   "source": [
    "plotitinerary(cities,donn(cities,N),'TSP - Nearest Neighbor','figure3')"
   ]
  },
  {
   "cell_type": "code",
   "execution_count": 16,
   "metadata": {},
   "outputs": [
    {
     "name": "stdout",
     "output_type": "stream",
     "text": [
      "6.29000579854535\n"
     ]
    }
   ],
   "source": [
    "print(howfar(genlines(cities,donn(cities,N))))"
   ]
  },
  {
   "cell_type": "code",
   "execution_count": 17,
   "metadata": {},
   "outputs": [],
   "source": [
    "initial_itinerary = [0,1,2,3,4,5,6,7,8,9,10,11,12,13,14,15,16,17,18,19,20,21,22,\\\n",
    "                    23,24,25,26,27,28,29,30,31,32,33,34,35,36,37,38,39]\n",
    "new_itinerary = [0,1,2,3,4,5,30,7,8,9,10,11,12,13,14,15,16,17,18,19,20,21,22,23,\\\n",
    "                24,25,26,27,28,29,6,31,32,33,34,35,36,37,38,39]"
   ]
  },
  {
   "cell_type": "code",
   "execution_count": 18,
   "metadata": {},
   "outputs": [
    {
     "name": "stdout",
     "output_type": "stream",
     "text": [
      "16.808756356994223\n",
      "16.791583620116665\n"
     ]
    }
   ],
   "source": [
    "print(howfar(genlines(cities,initial_itinerary)))\n",
    "print(howfar(genlines(cities,new_itinerary)))"
   ]
  },
  {
   "cell_type": "code",
   "execution_count": 19,
   "metadata": {},
   "outputs": [],
   "source": [
    "def perturb(cities,itinerary):\n",
    "    \"\"\"\n",
    "    Функция, которая вносит небольшое изменение в маршрут,\n",
    "    сравнивает измененный маршрут с исходным и возвращает более короткий маршрут\n",
    "    \"\"\"\n",
    "    neighborids1 = math.floor(np.random.rand() * (len(itinerary)))\n",
    "    neighborids2 = math.floor(np.random.rand() * (len(itinerary)))\n",
    "    \n",
    "    itinerary2 = itinerary.copy()\n",
    "    itinerary2[neighborids1] = itinerary[neighborids2]\n",
    "    itinerary2[neighborids2] = itinerary[neighborids1]\n",
    "    \n",
    "    distance1 = howfar(genlines(cities,itinerary))\n",
    "    distance2 = howfar(genlines(cities,itinerary2))\n",
    "    \n",
    "    itinerarytoreturn = itinerary.copy()\n",
    "    \n",
    "    if distance1 > distance2:\n",
    "        itinerarytoreturn = itinerary2.copy()\n",
    "        \n",
    "    return itinerarytoreturn.copy()\n",
    "    "
   ]
  },
  {
   "cell_type": "code",
   "execution_count": 21,
   "metadata": {},
   "outputs": [
    {
     "name": "stdout",
     "output_type": "stream",
     "text": [
      "7.37962855396978\n"
     ]
    }
   ],
   "source": [
    "np.random.seed(random_seed)\n",
    "itinerary_ps = itinerary.copy()\n",
    "for n in range(0,len(itinerary) * 50000):\n",
    "    itinerary_ps = perturb(cities,itinerary_ps)\n",
    "print(howfar(genlines(cities,itinerary_ps)))"
   ]
  },
  {
   "cell_type": "code",
   "execution_count": 22,
   "metadata": {},
   "outputs": [],
   "source": [
    "temperature = lambda t: 1/(t + 1)"
   ]
  },
  {
   "cell_type": "code",
   "execution_count": 23,
   "metadata": {},
   "outputs": [
    {
     "data": {
      "image/png": "[encoded data removed]",
      "text/plain": [
       "<Figure size 640x480 with 1 Axes>"
      ]
     },
     "metadata": {},
     "output_type": "display_data"
    }
   ],
   "source": [
    "import matplotlib.pyplot as plt\n",
    "\n",
    "ts = list(range(0,100))\n",
    "plt.plot(ts, [temperature(t) for t in ts])\n",
    "plt.title('The Temperature Function')\n",
    "plt.xlabel('Time')\n",
    "plt.ylabel('Temperature')\n",
    "plt.show()"
   ]
  },
  {
   "cell_type": "code",
   "execution_count": 24,
   "metadata": {},
   "outputs": [],
   "source": [
    "def perturb_sa1(cities,itinerary,time):\n",
    "    \"\"\"\n",
    "    Обновленная версия функции perturb(), \n",
    "    которая учитывает температуру и случайный фактор\n",
    "    \"\"\"\n",
    "    neighborids1 = math.floor(np.random.rand() * (len(itinerary)))\n",
    "    neighborids2 = math.floor(np.random.rand() * (len(itinerary)))\n",
    "    \n",
    "    itinerary2 = itinerary.copy()\n",
    "    itinerary2[neighborids1] = itinerary[neighborids2]\n",
    "    itinerary2[neighborids2] = itinerary[neighborids1]\n",
    "    \n",
    "    distance1 = howfar(genlines(cities,itinerary))\n",
    "    distance2 = howfar(genlines(cities,itinerary2))\n",
    "    \n",
    "    itinerarytoreturn = itinerary.copy()\n",
    "    \n",
    "    randomdraw = np.random.rand()\n",
    "    temperature = 1/((time/1000) + 1)\n",
    "    \n",
    "    if (distance2 > distance1 and randomdraw < temperature) or distance1 > distance2:\n",
    "        itinerarytoreturn = itinerary2.copy()\n",
    "        \n",
    "    return itinerarytoreturn.copy()"
   ]
  },
  {
   "cell_type": "code",
   "execution_count": 25,
   "metadata": {},
   "outputs": [
    {
     "name": "stdout",
     "output_type": "stream",
     "text": [
      "Случайный маршрут:  16.808756356994223\n",
      "Поиск с возмущением:  7.37962855396978\n",
      "Имитация отжига:  5.924388797206357\n",
      "Ближайший сосед:  6.29000579854535\n"
     ]
    }
   ],
   "source": [
    "itinerary = [0,1,2,3,4,5,6,7,8,9,10,11,12,13,14,15,16,17,18,19,20,21,22,23,24,25,\\\n",
    "            26,27,28,29,30,31,32,33,34,35,36,37,38,39]\n",
    "np.random.seed(random_seed)\n",
    "itinerary_sa = itinerary.copy()\n",
    "for n in range(0,len(itinerary) * 50000):\n",
    "    itinerary_sa = perturb_sa1(cities,itinerary_sa,n)\n",
    "    \n",
    "print('Случайный маршрут: ', howfar(genlines(cities,itinerary)))\n",
    "print('Поиск с возмущением: ', howfar(genlines(cities,itinerary_ps)))\n",
    "print('Имитация отжига: ', howfar(genlines(cities,itinerary_sa)))\n",
    "print('Ближайший сосед: ', howfar(genlines(cities,donn(cities,N)))) "
   ]
  },
  {
   "cell_type": "code",
   "execution_count": 26,
   "metadata": {},
   "outputs": [
    {
     "name": "stdout",
     "output_type": "stream",
     "text": [
      "[0, 1, 2, 3, 4, 5, 6, 7, 8, 9, 19, 18, 17, 16, 15, 14, 13, 12, 11, 10, 20, 21, 22, 23, 24, 25, 26, 27, 28, 29, 30, 31, 32, 33, 34, 35, 36, 37, 38, 39]\n"
     ]
    }
   ],
   "source": [
    "small = 10\n",
    "big = 20\n",
    "itinerary = [0,1,2,3,4,5,6,7,8,9,10,11,12,13,14,15,16,17,18,19,20,21,22,23,24,25,\\\n",
    "            26,27,28,29,30,31,32,33,34,35,36,37,38,39]\n",
    "itinerary[small:big] = itinerary[small:big][::-1]\n",
    "print(itinerary)"
   ]
  },
  {
   "cell_type": "code",
   "execution_count": 28,
   "metadata": {},
   "outputs": [],
   "source": [
    "small = 1\n",
    "big = 5\n",
    "itinerary = [0,1,2,3,4,5,6,7,8,9]\n",
    "tempitin = itinerary[small:big]\n",
    "del(itinerary[small:big])\n",
    "np.random.seed(random_seed + 1)\n",
    "neighborids3 = math.floor(np.random.rand() * (len(itinerary)))\n",
    "\n",
    "for j in range(0,len(tempitin)):\n",
    "    itinerary.insert(neighborids3 + j,tempitin[j])"
   ]
  },
  {
   "cell_type": "code",
   "execution_count": 30,
   "metadata": {},
   "outputs": [],
   "source": [
    "def perturb_sa2(cities,itinerary,time):\n",
    "    \"\"\"Использование нескольких методов внесения возмущений в маршрут\"\"\"\n",
    "    neighborids1 = math.floor(np.random.rand() * (len(itinerary)))\n",
    "    neighborids2 = math.floor(np.random.rand() * (len(itinerary)))\n",
    "    itinerary2 = itinerary.copy()\n",
    "    randomdraw2 = np.random.rand()\n",
    "    small = min(neighborids1,neighborids2)\n",
    "    big = max(neighborids1,neighborids2)\n",
    "    \n",
    "    if randomdraw2 >= 0.55:\n",
    "        itinerary2[small:big] = itinerary2[small:big][:: - 1]\n",
    "    elif randomdraw2 < 0.45:\n",
    "        tempitin = itinerary[small:big]\n",
    "        del(itinerary2[small:big])\n",
    "        neighborids3 = math.floor(np.random.rand() * (len(itinerary)))\n",
    "        for j in range(0,len(tempitin)):\n",
    "            itinerary2.insert(neighborids3 + j,tempitin[j])\n",
    "    else:\n",
    "        itinerary2[neighborids1] = itinerary[neighborids2]\n",
    "        itinerary2[neighborids2] = itinerary[neighborids1]\n",
    "        \n",
    "    distance1 = howfar(genlines(cities,itinerary))\n",
    "    distance2 = howfar(genlines(cities,itinerary2))\n",
    "    itinerarytoreturn = itinerary.copy()\n",
    "    randomdraw = np.random.rand()\n",
    "    temperature = 1/((time/1000) + 1)\n",
    "    \n",
    "    if (distance2 > distance1 and randomdraw < temperature) or (distance1 > distance2):\n",
    "        itinerarytoreturn = itinerary2.copy()\n",
    "    \n",
    "    return(itinerarytoreturn.copy())\n",
    "    "
   ]
  },
  {
   "cell_type": "code",
   "execution_count": 31,
   "metadata": {},
   "outputs": [],
   "source": [
    "def perturb_sa3(cities,itinerary,time,maxitin):\n",
    "    \"\"\"\n",
    "    Функция, выполняющая полный процесс имитации отжига\n",
    "    и возвращающая оптимальный маршрут\n",
    "    \"\"\"\n",
    "    neighborids1 = math.floor(np.random.rand() * (len(itinerary)))\n",
    "    neighborids2 = math.floor(np.random.rand() * (len(itinerary)))\n",
    "    global mindistance\n",
    "    global minitinerary\n",
    "    global minidx\n",
    "    itinerary2 = itinerary.copy()\n",
    "    randomdraw = np.random.rand()\n",
    "    \n",
    "    randomdraw2 = np.random.rand()\n",
    "    small = min(neighborids1,neighborids2)\n",
    "    big = max(neighborids1,neighborids2)\n",
    "    \n",
    "    if randomdraw2 >= 0.55:\n",
    "        itinerary2[small:big] = itinerary2[small:big][::- 1 ]\n",
    "    elif randomdraw2 < 0.45:\n",
    "        tempitin = itinerary[small:big]\n",
    "        del(itinerary2[small:big])\n",
    "        neighborids3 = math.floor(np.random.rand() * (len(itinerary)))\n",
    "        for j in range(0,len(tempitin)):\n",
    "            itinerary2.insert(neighborids3 + j,tempitin[j])\n",
    "    else:\n",
    "        itinerary2[neighborids1] = itinerary[neighborids2]\n",
    "        itinerary2[neighborids2] = itinerary[neighborids1]\n",
    "        \n",
    "    temperature=1/(time/(maxitin/10)+1)\n",
    "    distance1 = howfar(genlines(cities,itinerary))\n",
    "    distance2 = howfar(genlines(cities,itinerary2))\n",
    "    itinerarytoreturn = itinerary.copy()\n",
    "    \n",
    "    scale = 3.5\n",
    "    if((distance2 > distance1 and (randomdraw) < (math.exp(scale*(distance1 - distance2)) * temperature)) or (distance1 > distance2)):\n",
    "        itinerarytoreturn = itinerary2.copy()\n",
    "        \n",
    "    reset = True\n",
    "    resetthresh = 0.04\n",
    "    if(reset and (time - minidx) > (maxitin * resetthresh)):\n",
    "        itinerarytoreturn = minitinerary\n",
    "        minidx = time\n",
    "    if(howfar(genlines(cities,itinerarytoreturn)) < mindistance):\n",
    "        mindistance = howfar(genlines(cities,itinerary2))\n",
    "        minitinerary = itinerarytoreturn\n",
    "        minidx = time\n",
    "    if(abs(time - maxitin) <= 1):\n",
    "        itinerarytoreturn = minitinerary.copy()\n",
    "    \n",
    "    return itinerarytoreturn.copy()\n",
    "    "
   ]
  },
  {
   "cell_type": "code",
   "execution_count": 32,
   "metadata": {},
   "outputs": [],
   "source": [
    "def siman(itinerary,cities):\n",
    "    \"\"\"\n",
    "    Функция выполняет полный процесс имитации отжига\n",
    "    и возвращаетоптимизированный маршрут\n",
    "    \"\"\"\n",
    "    newitinerary = itinerary.copy()\n",
    "    global mindistance\n",
    "    global minitinerary\n",
    "    global minidx\n",
    "    mindistance = howfar(genlines(cities,itinerary))\n",
    "    minitinerary = itinerary\n",
    "    minidx = 0\n",
    "    \n",
    "    maxitin = len(itinerary) * 50000\n",
    "    for t in range(0,maxitin):\n",
    "        newitinerary = perturb_sa3(cities,newitinerary,t,maxitin)\n",
    "    \n",
    "    return newitinerary.copy()"
   ]
  },
  {
   "cell_type": "code",
   "execution_count": 33,
   "metadata": {},
   "outputs": [
    {
     "name": "stdout",
     "output_type": "stream",
     "text": [
      "6.29000579854535\n",
      "5.324726648610248\n",
      "0.8465376375076895\n"
     ]
    }
   ],
   "source": [
    "np.random.seed(random_seed)\n",
    "itinerary = list(range(N))\n",
    "nnitin = donn(cities,N)\n",
    "nnresult = howfar(genlines(cities,nnitin))\n",
    "simanitinerary = siman(itinerary,cities)\n",
    "simanresult = howfar(genlines(cities,simanitinerary))\n",
    "print(nnresult)\n",
    "print(simanresult)\n",
    "print(simanresult/nnresult)"
   ]
  }
 ],
 "metadata": {
  "kernelspec": {
   "display_name": ".venv",
   "language": "python",
   "name": "python3"
  },
  "language_info": {
   "codemirror_mode": {
    "name": "ipython",
    "version": 3
   },
   "file_extension": ".py",
   "mimetype": "text/x-python",
   "name": "python",
   "nbconvert_exporter": "python",
   "pygments_lexer": "ipython3",
   "version": "3.10.9"
  }
 },
 "nbformat": 4,
 "nbformat_minor": 2
}
