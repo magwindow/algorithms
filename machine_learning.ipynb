{
 "cells": [
  {
   "cell_type": "code",
   "execution_count": 3,
   "metadata": {},
   "outputs": [
    {
     "name": "stdout",
     "output_type": "stream",
     "text": [
      "(44387, 534)\n"
     ]
    }
   ],
   "source": [
    "import pandas as pd\n",
    "ess = pd.read_csv('ess.csv', low_memory=False)\n",
    "print(ess.shape)"
   ]
  },
  {
   "cell_type": "code",
   "execution_count": 4,
   "metadata": {},
   "outputs": [
    {
     "name": "stdout",
     "output_type": "stream",
     "text": [
      "0    5\n",
      "1    5\n",
      "2    8\n",
      "3    8\n",
      "4    5\n",
      "Name: happy, dtype: int64\n"
     ]
    }
   ],
   "source": [
    "print(ess.loc[:,'happy'].head())"
   ]
  },
  {
   "cell_type": "code",
   "execution_count": 5,
   "metadata": {},
   "outputs": [
    {
     "name": "stdout",
     "output_type": "stream",
     "text": [
      "0    6\n",
      "1    4\n",
      "2    4\n",
      "3    4\n",
      "4    6\n",
      "Name: sclmeet, dtype: int64\n"
     ]
    }
   ],
   "source": [
    "print(ess.loc[:,'sclmeet'].head())"
   ]
  },
  {
   "cell_type": "code",
   "execution_count": 6,
   "metadata": {},
   "outputs": [],
   "source": [
    "ess = ess.loc[ess['sclmeet'] <= 10,:].copy()\n",
    "ess = ess.loc[ess['rlgdgr'] <= 10,:].copy()\n",
    "ess = ess.loc[ess['hhmmb'] <= 50,:].copy()\n",
    "ess = ess.loc[ess['netusoft'] <= 5,:].copy()\n",
    "ess = ess.loc[ess['agea'] <= 200,:].copy()\n",
    "ess = ess.loc[ess['health'] <= 5,:].copy()\n",
    "ess = ess.loc[ess['happy'] <= 10,:].copy()\n",
    "ess = ess.loc[ess['eduyrs'] <= 100,:].copy().reset_index(drop=True)"
   ]
  },
  {
   "cell_type": "code",
   "execution_count": 7,
   "metadata": {},
   "outputs": [],
   "source": [
    "import numpy as np\n",
    "\n",
    "social = list(ess.loc[:,'sclmeet'])\n",
    "happy = list(ess.loc[:,'happy'])\n",
    "low_social_happiness = [hap for soc,hap in zip(social,happy) if soc <= 5]\n",
    "high_social_happiness = [hap for soc,hap in zip(social,happy) if soc > 5]\n",
    "meanlower = np.mean(low_social_happiness)\n",
    "meanhigher = np.mean(high_social_happiness)"
   ]
  },
  {
   "cell_type": "code",
   "execution_count": 8,
   "metadata": {},
   "outputs": [],
   "source": [
    "lowererrors = [abs(lowhappy - meanlower) for lowhappy in low_social_happiness]\n",
    "highererrors = [abs(highhappy - meanhigher) for highhappy in high_social_happiness]\n",
    "total_error = sum(lowererrors) + sum(highererrors)"
   ]
  },
  {
   "cell_type": "code",
   "execution_count": 9,
   "metadata": {},
   "outputs": [],
   "source": [
    "def get_splitpoint(allvalues, predictedvalues):\n",
    "    \"\"\"\n",
    "    Функция, находящая лучшую точку разбиения переменной\n",
    "    для ветвления в дереве принятия решений\n",
    "    \"\"\"\n",
    "    lowest_error = float('inf')\n",
    "    best_split = None\n",
    "    best_lowermean = np.mean(predictedvalues)\n",
    "    best_highermean = np.mean(predictedvalues)\n",
    "    \n",
    "    for pctl in range(0,100):\n",
    "        split_candidate = np.percentile(allvalues, pctl)\n",
    "        loweroutcomes = [outcome for value, outcome in zip(allvalues, predictedvalues) if value <= split_candidate]\n",
    "        higheroutcomes = [outcome for value, outcome in zip(allvalues, predictedvalues) if value > split_candidate]\n",
    "        \n",
    "        if np.min([len(loweroutcomes), len(higheroutcomes)]) > 0:\n",
    "            meanlower = np.mean(loweroutcomes)\n",
    "            meanhigher = np.mean(higheroutcomes)\n",
    "        \n",
    "    lowererrors = [abs(outcome - meanlower) for outcome in loweroutcomes]\n",
    "    highererrors = [abs(outcome - meanhigher) for outcome in higheroutcomes]\n",
    "    total_error = sum(lowererrors) + sum(highererrors)\n",
    "    \n",
    "    if total_error < lowest_error:\n",
    "        best_split = split_candidate\n",
    "        lowest_error = total_error\n",
    "        best_lowermean = meanlower\n",
    "        best_highermean = meanhigher\n",
    "        \n",
    "    return best_split, lowest_error, best_lowermean, best_highermean"
   ]
  },
  {
   "cell_type": "code",
   "execution_count": 12,
   "metadata": {},
   "outputs": [
    {
     "name": "stdout",
     "output_type": "stream",
     "text": [
      "(np.float64(7.0), np.float64(62243.62061562566), np.float64(7.451073100635053), np.float64(7.9890710382513666))\n"
     ]
    }
   ],
   "source": [
    "allvalues = list(ess.loc[:,'hhmmb'])\n",
    "predictedvalues = list(ess.loc[:,'happy'])\n",
    "print(get_splitpoint(allvalues,predictedvalues))"
   ]
  },
  {
   "cell_type": "code",
   "execution_count": 30,
   "metadata": {},
   "outputs": [],
   "source": [
    "def getsplit(data, variables, outcome_variable):\n",
    "    \"\"\"\n",
    "    Функция перебирает все переменные \n",
    "    и находит лучшую переменную для разбиения\n",
    "    \"\"\"\n",
    "    best_var = ''\n",
    "    lowest_error = float('inf')\n",
    "    best_split = None\n",
    "    predictedvalues = list(data.loc[:, outcome_variable])\n",
    "    best_lowermean = -1\n",
    "    best_highermean = -1\n",
    "    \n",
    "    for var in variables:\n",
    "        allvalues = list(data.loc[:, var])\n",
    "        splitted = get_splitpoint(allvalues, predictedvalues)\n",
    "        \n",
    "        if splitted[1] < lowest_error:\n",
    "            best_split = splitted[0]\n",
    "            lowest_error = splitted[1]\n",
    "            best_var = var\n",
    "            best_lowermean = splitted[2]\n",
    "            best_highermean = splitted[3]\n",
    "            \n",
    "    generated_tree = [[best_var, float('-inf'), best_split, best_lowermean], [best_var, best_split, float('inf'), best_highermean]]\n",
    "    return generated_tree"
   ]
  },
  {
   "cell_type": "code",
   "execution_count": 31,
   "metadata": {},
   "outputs": [
    {
     "name": "stdout",
     "output_type": "stream",
     "text": [
      "[['hhmmb', -inf, np.float64(7.0), np.float64(7.451073100635053)], ['hhmmb', np.float64(7.0), inf, np.float64(7.9890710382513666)]]\n"
     ]
    }
   ],
   "source": [
    "variables = ['rlgdgr', 'hhmmb', 'netusoft', 'agea', 'eduyrs']\n",
    "outcome_variable = 'happy'\n",
    "\n",
    "print(getsplit(ess, variables, outcome_variable))"
   ]
  }
 ],
 "metadata": {
  "kernelspec": {
   "display_name": ".venv",
   "language": "python",
   "name": "python3"
  },
  "language_info": {
   "codemirror_mode": {
    "name": "ipython",
    "version": 3
   },
   "file_extension": ".py",
   "mimetype": "text/x-python",
   "name": "python",
   "nbconvert_exporter": "python",
   "pygments_lexer": "ipython3",
   "version": "3.10.9"
  }
 },
 "nbformat": 4,
 "nbformat_minor": 2
}
